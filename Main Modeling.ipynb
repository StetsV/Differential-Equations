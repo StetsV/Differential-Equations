%matplotlib inline

plt.style.use('ggplot')
sns.set_palette('mako')
sns.set_style('darkgrid')

DCL process
def dclProcess(NumberPaths, N, T, x0, theta, delta):
    Z1 = np.random.normal(0.0, 1.0,[NumberPaths,N])
    X = np.zeros([NumberPaths, N + 1])

    X[:, 0] = x0
    time = np.zeros([N+1])
    dt = T / float(N)
    
    for i in range(0, N):

        X[:,i+1] = X[:, i] - 1/theta * X[:,i] * dt + np.sqrt((1 - (X[:, i])**2)/(theta * (delta + 1))) * np.sqrt(dt) * Z1[:,i]
            
        if (X[:,i+1] > 1).any():
X[np.where(X[:,i+1] > 1)[0], i+1] = 0.9999

        if (X[:,i+1] < -1).any():
            X[np.where(X[:,i+1] < -1)[0], i+1] = -0.9999 
            
        time[i+1] = time[i] + dt

    return time, X
rho0 = 0.04
theta = 5
time, dclpaths = dclProcess(10000, 100, 10, rho0, theta, 2)
plt.subplots(figsize=(10, 5), dpi=100)

for i in range(100):
    plt.plot(time, dclpaths[i])
        
    plt.title('DCL Process', fontsize=16)
    plt.xlabel('time', fontsize=14)
    plt.ylabel('Values', fontsize=14)

plt.plot(time, np.exp(-1/theta * time)*rho0, color='red', label='Mean')
plt.legend()
plt.show()
plt.hist(dclpaths[:, -1], bins=20)
plt.show()
plt.hist(jacobipath[:, -1], bins=20)

def ornsteinUhlenbekProcess(NumberPaths, N, T, x0, krho, murho, sigmarho):
    Z1 = np.random.normal(0.0, 1.0,[NumberPaths,N])
    X = np.zeros([NumberPaths, N + 1])

    X[:, 0] = x0

    time = np.zeros([N+1])
    dt = T / float(N)
    
   for i in range(0, N):

        X[:,i+1] = X[:, i] + krho * (murho - X[:,i]) * dt + sigmarho * np.sqrt(1-X[:,i]**2) * np.sqrt(dt) * Z1[:,i]
            
        if (X[:,i+1] > 1).any():
            X[np.where(X[:,i+1] > 1)[0], i+1] = 0.9999
      
        if (X[:,i+1] < -1).any():
            X[np.where(X[:,i+1] < -1)[0], i+1] = -0.9999 
            
        time[i+1] = time[i] + dt

    return time, X

rho0 = 0.04
theta = 5
time, dclpaths = dclProcess(10000, 100, 10, rho0, theta, 2)

plt.subplots(figsize=(10, 5), dpi=100)

for i in range(100):
    plt.plot(time, dclpaths[i])
        
    plt.title('DCL Process', fontsize=16)
    plt.xlabel('time', fontsize=14)
    plt.ylabel('Values', fontsize=14)

plt.plot(time, np.exp(-1/theta * time)*rho0, color='red', label='Mean')
plt.legend()
plt.show()

plt.hist(dclpaths[:, -1], bins=20)
plt.show()

def jacobiProcess(NumberPaths, N, T, x0, krho, murho, sigmarho):
    Z1 = np.random.normal(0.0, 1.0,[NumberPaths,N])
    X = np.zeros([NumberPaths, N + 1])

    X[:, 0] = x0

    time = np.zeros([N+1])
    dt = T / float(N)
    
    for i in range(0, N):

        X[:,i+1] = X[:, i] - 1/theta * X[:,i] * dt + np.sqrt((1 - (X[:, i])**2)/(theta * (delta + 1))) * np.sqrt(dt) * Z1[:,i]
            
        if (X[:,i+1] > 1).any():
            X[np.where(X[:,i+1] > 1)[0], i+1] = 0.9999

        if (X[:,i+1] < -1).any():
            X[np.where(X[:,i+1] < -1)[0], i+1] = -0.9999 
            
        time[i+1] = time[i] + dt

    return time, X

rho0 = 0.04
theta = 5
time, dclpaths = dclProcess(10000, 100, 10, rho0, theta, 2)

plt.subplots(figsize=(10, 5), dpi=100)

for i in range(100):
    plt.plot(time, dclpaths[i])
        
    plt.title('DCL Process', fontsize=16)
    plt.xlabel('time', fontsize=14)
    plt.ylabel('Values', fontsize=14)

plt.plot(time, np.exp(-1/theta * time)*rho0, color='red', label='Mean')
plt.legend()
plt.show()
