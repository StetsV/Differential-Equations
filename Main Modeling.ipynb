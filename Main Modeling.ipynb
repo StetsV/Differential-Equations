%matplotlib inline

plt.style.use('ggplot')
sns.set_palette('mako')
sns.set_style('darkgrid')

DCL process
def dclProcess(NumberPaths, N, T, x0, theta, delta):
    Z1 = np.random.normal(0.0, 1.0,[NumberPaths,N])
    X = np.zeros([NumberPaths, N + 1])

    X[:, 0] = x0
    time = np.zeros([N+1])
