%matplotlib inline

plt.style.use('ggplot')
sns.set_palette('mako')
sns.set_style('darkgrid')

DCL process
def dclProcess(NumberPaths, N, T, x0, theta, delta):
